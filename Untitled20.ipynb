{
 "cells": [
  {
   "cell_type": "markdown",
   "id": "3d66fd68-d5e5-4263-be33-298c4b45470f",
   "metadata": {},
   "source": [
    "Step 1: Check the First Few Rows\n",
    "Once you've printed the column names, the next thing is to check the first few rows to ensure the text data is where you expect it to be."
   ]
  },
  {
   "cell_type": "code",
   "execution_count": 2,
   "id": "3d6ac0ee-8dc4-4872-8235-1f6c88480a05",
   "metadata": {},
   "outputs": [
    {
     "name": "stdout",
     "output_type": "stream",
     "text": [
      "Index(['Unnamed: 0', 'name', 'content', 'no_of_reviews', 'no_of_viewers',\n",
      "       'aka_names', 'screenwriter', 'director', 'genres', 'tags', 'country',\n",
      "       'type_of_show', 'episodes', 'end_date', 'start_date', 'year',\n",
      "       'duration', 'rating', 'no_of_rating', 'rank', 'popularity',\n",
      "       'content_rating', 'where_to_watch', 'main_role', 'support_role',\n",
      "       'no_of_extracted_reviews', 'Total_sentences',\n",
      "       'POSITIVE_people_sentiment', 'POSITIVE_sentences',\n",
      "       'NEGATIVE_people_sentiment', 'NEGATIVE_sentences',\n",
      "       'reviewer_location_info', 'reviewer_gender_info'],\n",
      "      dtype='object')\n"
     ]
    }
   ],
   "source": [
    "# Import pandas to work with the dataset\n",
    "import pandas as pd\n",
    "\n",
    "# Load the dataset\n",
    "file_path = r'C:\\Users\\HP\\OneDrive\\Desktop\\Sentiment_Analysis_Project\\archive (7)\\Top_5000_popular_drama_details_from_mydramalist.csv'\n",
    "data = pd.read_csv(file_path)\n",
    "\n",
    "# Print the column names to identify the correct name\n",
    "print(data.columns)\n",
    "\n"
   ]
  },
  {
   "cell_type": "code",
   "execution_count": 3,
   "id": "8b05a73a-afa0-41e4-a47d-984bc288a052",
   "metadata": {},
   "outputs": [
    {
     "name": "stdout",
     "output_type": "stream",
     "text": [
      "Index(['Unnamed: 0', 'name', 'content', 'no_of_reviews', 'no_of_viewers',\n",
      "       'aka_names', 'screenwriter', 'director', 'genres', 'tags', 'country',\n",
      "       'type_of_show', 'episodes', 'end_date', 'start_date', 'year',\n",
      "       'duration', 'rating', 'no_of_rating', 'rank', 'popularity',\n",
      "       'content_rating', 'where_to_watch', 'main_role', 'support_role',\n",
      "       'no_of_extracted_reviews', 'Total_sentences',\n",
      "       'POSITIVE_people_sentiment', 'POSITIVE_sentences',\n",
      "       'NEGATIVE_people_sentiment', 'NEGATIVE_sentences',\n",
      "       'reviewer_location_info', 'reviewer_gender_info'],\n",
      "      dtype='object')\n"
     ]
    }
   ],
   "source": [
    "# Strip any leading/trailing spaces from column names\n",
    "data.columns = data.columns.str.strip()\n",
    "\n",
    "# Print the cleaned column names\n",
    "print(data.columns)\n"
   ]
  },
  {
   "cell_type": "code",
   "execution_count": 4,
   "id": "1dcaaeac-c10b-4934-82ae-da406d6ce369",
   "metadata": {},
   "outputs": [],
   "source": [
    "# Convert the 'content' column to strings\n",
    "data['content'] = data['content'].astype(str)\n"
   ]
  },
  {
   "cell_type": "code",
   "execution_count": 5,
   "id": "a52b4dcd-313a-44d5-a0ed-574665761d3d",
   "metadata": {},
   "outputs": [],
   "source": [
    "# Remove rows where 'content' is NaN\n",
    "data = data.dropna(subset=['content'])\n"
   ]
  },
  {
   "cell_type": "code",
   "execution_count": 6,
   "id": "08127f5b-4690-4f7c-9888-db08915536e9",
   "metadata": {},
   "outputs": [
    {
     "name": "stdout",
     "output_type": "stream",
     "text": [
      "                              name  \\\n",
      "0                           goblin   \n",
      "1        strong woman do bong soon   \n",
      "2  weightlifting fairy kim bok joo   \n",
      "3           descendants of the sun   \n",
      "4                                w   \n",
      "\n",
      "                                             content Sentiment  \n",
      "0  Kim Shin was once an unbeatable general in Gor...  Negative  \n",
      "1  Do Bong Soon is a petite, unemployed woman who...  Positive  \n",
      "2  Bok Joo is a weightlifter who is pursuing her ...  Positive  \n",
      "3  A love story that develops between a surgeon a...  Positive  \n",
      "4  Oh Sung Moo, the father of cardiothoracic surg...  Negative  \n"
     ]
    }
   ],
   "source": [
    "from textblob import TextBlob\n",
    "\n",
    "# Define the sentiment analysis function using TextBlob\n",
    "def analyze_sentiment(text):\n",
    "    analysis = TextBlob(text)\n",
    "    if analysis.sentiment.polarity > 0:\n",
    "        return 'Positive'\n",
    "    elif analysis.sentiment.polarity < 0:\n",
    "        return 'Negative'\n",
    "    else:\n",
    "        return 'Neutral'\n",
    "\n",
    "# Apply sentiment analysis to the 'content' column\n",
    "data['Sentiment'] = data['content'].apply(analyze_sentiment)\n",
    "\n",
    "# Show the first few rows with sentiment results\n",
    "print(data[['name', 'content', 'Sentiment']].head())\n"
   ]
  },
  {
   "cell_type": "code",
   "execution_count": 7,
   "id": "906e9fa7-5cd4-4322-bd96-287dbf79605c",
   "metadata": {},
   "outputs": [
    {
     "data": {
      "image/png": "[encoded data removed]",
      "text/plain": [
       "<Figure size 640x480 with 1 Axes>"
      ]
     },
     "metadata": {},
     "output_type": "display_data"
    }
   ],
   "source": [
    "import seaborn as sns\n",
    "import matplotlib.pyplot as plt\n",
    "\n",
    "# Plot sentiment distribution using seaborn\n",
    "sns.countplot(x='Sentiment', data=data)\n",
    "plt.title('Sentiment Distribution of Drama Descriptions')\n",
    "plt.xlabel('Sentiment')\n",
    "plt.ylabel('Count')\n",
    "plt.show()\n"
   ]
  },
  {
   "cell_type": "code",
   "execution_count": 16,
   "id": "49ac5f8b-7177-4e2f-99d2-aa3afca061cf",
   "metadata": {},
   "outputs": [
    {
     "name": "stdout",
     "output_type": "stream",
     "text": [
      "Sentiment analysis results saved to 'C:\\Users\\HP\\OneDrive\\Desktop\\drama_sentiment_analysis_results.csv'\n"
     ]
    }
   ],
   "source": [
    "# Define the output file path using raw string literal (to avoid escape character issues)\n",
    "output_file_path = r'C:\\Users\\HP\\OneDrive\\Desktop\\drama_sentiment_analysis_results.csv'\n",
    "\n",
    "# Save the DataFrame to the specified CSV file\n",
    "data.to_csv(output_file_path, index=False)\n",
    "\n",
    "# Print a confirmation message\n",
    "print(f\"Sentiment analysis results saved to '{output_file_path}'\")\n"
   ]
  }
 ],
 "metadata": {
  "kernelspec": {
   "display_name": "Python 3 (ipykernel)",
   "language": "python",
   "name": "python3"
  },
  "language_info": {
   "codemirror_mode": {
    "name": "ipython",
    "version": 3
   },
   "file_extension": ".py",
   "mimetype": "text/x-python",
   "name": "python",
   "nbconvert_exporter": "python",
   "pygments_lexer": "ipython3",
   "version": "3.11.7"
  }
 },
 "nbformat": 4,
 "nbformat_minor": 5
}
